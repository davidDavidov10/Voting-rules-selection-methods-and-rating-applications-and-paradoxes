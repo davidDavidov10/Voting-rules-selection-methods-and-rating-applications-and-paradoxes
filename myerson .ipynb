{
 "cells": [
  {
   "cell_type": "code",
   "execution_count": 1,
   "metadata": {},
   "outputs": [
    {
     "name": "stdout",
     "output_type": "stream",
     "text": [
      "                                                parties  \\\n",
      "MHL   {'mandats': 36, 'partners': ['PO', 'TOV', 'G',...   \n",
      "PO    {'mandats': 33, 'partners': ['MHL', 'L', 'VDAM...   \n",
      "VDAM                {'mandats': 15, 'partners': ['PO']}   \n",
      "SHS     {'mandats': 9, 'partners': ['MHL', 'G', 'TOV']}   \n",
      "G     {'mandats': 7, 'partners': ['MHL', 'SHS', 'TOV']}   \n",
      "EMT             {'mandats': 7, 'partners': ['L', 'PO']}   \n",
      "L             {'mandats': 7, 'partners': ['PO', 'EMT']}   \n",
      "TOV     {'mandats': 6, 'partners': ['MHL', 'G', 'SHS']}   \n",
      "\n",
      "                    namesMap  \n",
      "MHL                    Likud  \n",
      "PO               Kahol Lavan  \n",
      "VDAM  Hareshima Hameshutefet  \n",
      "SHS                     Shas  \n",
      "G             Yehadut Hatora  \n",
      "EMT   Ha'avoda-Gesher-Meretz  \n",
      "L             Israel Biteinu  \n",
      "TOV                   Yamina  \n"
     ]
    }
   ],
   "source": [
    "import pandas as pd\n",
    "import numpy as np\n",
    "from scipy.special import factorial\n",
    "data = pd.read_json(\"./march2020.json\")\n",
    "parties = data.namesMap.keys()\n",
    "print (data)"
   ]
  },
  {
   "cell_type": "code",
   "execution_count": 2,
   "metadata": {},
   "outputs": [],
   "source": [
    "from sympy.utilities.iterables import multiset_permutations\n",
    "import numpy as np\n",
    "\n",
    "arr=[    \n",
    "    \"PO\",\n",
    "    \"MHL\",\n",
    "    \"VDAM\",\n",
    "    \"SHS\",\n",
    "    \"L\",\n",
    "    \"G\",\n",
    "    \"TOV\",\n",
    "    \"EMT\",\n",
    "    ]\n",
    "\n",
    "a = np.array(arr)\n",
    "partiesPermutations= []\n",
    "for p in multiset_permutations(a):\n",
    "    partiesPermutations.append(p)\n",
    "    \n",
    "partiesPermutations = np.array(partiesPermutations)"
   ]
  },
  {
   "cell_type": "code",
   "execution_count": 3,
   "metadata": {},
   "outputs": [],
   "source": [
    "coalition2020 = [\n",
    "    {\"PO\",\"MHL\",\"SHS\",\"G\"},\n",
    "    {\"PO\",\"MHL\",\"SHS\",\"G\",\"TOV\"},\n",
    "    {\"PO\",\"MHL\",\"SHS\",\"G\",\"TOV\",\"EMT\"},\n",
    "    {\"PO\",\"MHL\",\"SHS\",\"G\",\"EMT\"}\n",
    "]"
   ]
  },
  {
   "cell_type": "code",
   "execution_count": 4,
   "metadata": {
    "scrolled": true
   },
   "outputs": [
    {
     "name": "stdout",
     "output_type": "stream",
     "text": [
      "       MHL   PO  VDAM  SHS    G  EMT    L  TOV\n",
      "0      0.0  0.0   0.0  1.0  0.0  0.0  0.0  0.0\n",
      "1      0.0  0.0   0.0  1.0  0.0  0.0  0.0  0.0\n",
      "2      0.0  0.0   0.0  1.0  0.0  0.0  0.0  0.0\n",
      "3      0.0  0.0   0.0  1.0  0.0  0.0  0.0  0.0\n",
      "4      0.0  0.0   0.0  1.0  0.0  0.0  0.0  0.0\n",
      "...    ...  ...   ...  ...  ...  ...  ...  ...\n",
      "40315  0.0  0.0   0.0  0.0  1.0  0.0  0.0  0.0\n",
      "40316  0.0  0.0   0.0  0.0  1.0  0.0  0.0  0.0\n",
      "40317  0.0  0.0   0.0  0.0  1.0  0.0  0.0  0.0\n",
      "40318  0.0  0.0   0.0  0.0  1.0  0.0  0.0  0.0\n",
      "40319  0.0  0.0   0.0  0.0  1.0  0.0  0.0  0.0\n",
      "\n",
      "[40320 rows x 8 columns]\n"
     ]
    }
   ],
   "source": [
    "eightfactorial =int(factorial(8))\n",
    "table = pd.DataFrame(np.zeros(shape=(eightfactorial,8)), columns = parties)\n",
    "room = set()\n",
    "\n",
    "for i in range(eightfactorial):   \n",
    "    for party in partiesPermutations[i]:\n",
    "        found = False\n",
    "        room.add(party)\n",
    "        for coalition in coalition2020:\n",
    "            \n",
    "            if coalition.intersection(room) == coalition:\n",
    "                table[party][i] = 1    \n",
    "                found =True;\n",
    "                break\n",
    "        if found:\n",
    "            break\n",
    "    room.clear()\n",
    "# if you want to see all the rows uncomment the row below    \n",
    "# pd.set_option(\"display.max_rows\", None, \"display.max_columns\", None)\n",
    "print (table)\n"
   ]
  },
  {
   "cell_type": "code",
   "execution_count": 5,
   "metadata": {},
   "outputs": [
    {
     "name": "stdout",
     "output_type": "stream",
     "text": [
      "MHL     0.25\n",
      "PO      0.25\n",
      "VDAM    0.00\n",
      "SHS     0.25\n",
      "G       0.25\n",
      "EMT     0.00\n",
      "L       0.00\n",
      "TOV     0.00\n",
      "dtype: float64\n"
     ]
    }
   ],
   "source": [
    "Total = table.sum(axis = 0)\n",
    "print (Total/eightfactorial)"
   ]
  }
 ],
 "metadata": {
  "kernelspec": {
   "display_name": "Python 3",
   "language": "python",
   "name": "python3"
  },
  "language_info": {
   "codemirror_mode": {
    "name": "ipython",
    "version": 3
   },
   "file_extension": ".py",
   "mimetype": "text/x-python",
   "name": "python",
   "nbconvert_exporter": "python",
   "pygments_lexer": "ipython3",
   "version": "3.7.6"
  }
 },
 "nbformat": 4,
 "nbformat_minor": 4
}
