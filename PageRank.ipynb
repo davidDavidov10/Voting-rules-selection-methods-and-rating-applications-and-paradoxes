{
 "cells": [
  {
   "cell_type": "code",
   "execution_count": 154,
   "metadata": {},
   "outputs": [],
   "source": [
    "import numpy as np\n",
    "\n",
    "april2019Mat = np.array([\n",
    "    [0,0, 0.25, 0.25, 0,0, 0.25, 0.2, 0, 0.2, 0],\n",
    "    [0,0,0,0,0, 0.5, 0.25, 0, 0.25, 0,0],\n",
    "    [0.2,0,0,0.25,0,0,0,0.2,0,0.2,0],\n",
    "    [0.2,0,0.25,0,0,0,0,0.2,0,0.2,0],\n",
    "    [0,0,0,0,0,0,0,0,0.25,0,0.5],\n",
    "    [0,1/3,0,0,0,0,0,0,0.25,0,0],\n",
    "    [0.2,1/3,0,0,0,0,0,0.2,0,0.2,0],\n",
    "    [0.2,0,0.25,0.25,0,0,0.25,0,0,0.2,0],\n",
    "    [0,1/3,0,0,0.5,0.5,0,0,0,0,0.5],\n",
    "    [0.2, 0, 0.25, 0.25,0,0,0.25,0.2,0,0,0],\n",
    "    [0,0,0,0,0.5,0,0,0,0.25,0,0]\n",
    "])\n",
    "importanceVecApril2019 = np.array([1/11,1/11,1/11,1/11,1/11,1/11,1/11,1/11,1/11,1/11,1/11])\n"
   ]
  },
  {
   "cell_type": "code",
   "execution_count": 155,
   "metadata": {},
   "outputs": [],
   "source": [
    "september2019Mat = np.array([\n",
    "    [0,0, 0.5, 0, 0.5 ,0, 0, 1/3, 1/3],\n",
    "    [0,0,0, 1/3, 0, 1/3, 1/3, 0 ,0],\n",
    "    [0.25,0,0,0,0,0,0,0,1/3],\n",
    "    [0, 1/3,0,0,0, 1/3, 1/3,0,0],\n",
    "    [0.25,0,0,0,0,0,0,1/3,0],\n",
    "    [0,1/3,0, 1/3,0,0,1/3,0,0],\n",
    "    [0,1/3,0, 1/3,0,1/3,0,0,0],\n",
    "    [0.25,0,0,0,0.5,0,0,0,1/3],\n",
    "    [0.25,0,0.5,0,0,0,0,1/3,0]\n",
    "])\n",
    "importanceVecSeptember2019 = np.array([1/9,1/9,1/9,1/9,1/9,1/9,1/9,1/9,1/9])"
   ]
  },
  {
   "cell_type": "code",
   "execution_count": 156,
   "metadata": {},
   "outputs": [],
   "source": [
    "march2020Mat = np.array([\n",
    "    [0,0.25, 0,1/3,1/3,0,0, 1/3],\n",
    "    [0.25,0,1 ,0,0, 0.5, 0.5, 0],\n",
    "    [0,0.25,0,0,0,0,0,0],\n",
    "    [0.25,0,0,0,1/3,0,0,1/3],\n",
    "    [0.25,0,0,1/3,0,0,0,1/3],\n",
    "    [0,0.25,0,0,0,0,0.5,0],\n",
    "    [0,0.25,0,0,0,0.5,0,0],\n",
    "    [0.25,0,0,1/3,1/3,0,0,0]\n",
    "    ])\n",
    "    \n",
    "importanceVecMarch2020 = np.array([1/8,1/8,1/8,1/8,1/8,1/8,1/8,1/8])"
   ]
  },
  {
   "cell_type": "code",
   "execution_count": 157,
   "metadata": {},
   "outputs": [],
   "source": [
    "def getImportanceVec(mat,vec):\n",
    "    done = False\n",
    "    itr =0\n",
    "    while(not done):\n",
    "        prevVec = (mat.dot(vec)).round(decimals=4)\n",
    "        itr+=1\n",
    "        for i in range(len(vec)):      \n",
    "            if(prevVec[i] != vec[i]):\n",
    "                break\n",
    "            else:\n",
    "                if i == len(vec) -1:\n",
    "                    done =True\n",
    "        vec = prevVec\n",
    "        if (itr > 1000):\n",
    "            break\n",
    "    return vec\n",
    "        "
   ]
  },
  {
   "cell_type": "code",
   "execution_count": 158,
   "metadata": {
    "scrolled": true
   },
   "outputs": [
    {
     "name": "stdout",
     "output_type": "stream",
     "text": [
      "importanceVecApril2019\n",
      "[0.1247 0.0753 0.0997 0.0997 0.0504 0.0503 0.0999 0.1247 0.1006 0.1247\n",
      " 0.0504]\n",
      "importanceVecSeptember2019\n",
      "[0.1586 0.1111 0.0793 0.1111 0.0793 0.1111 0.1111 0.119  0.119 ]\n",
      "importanceVecMarch2020\n",
      "[0.1814 0.1822 0.0456 0.1359 0.1359 0.0912 0.0912 0.1359]\n"
     ]
    }
   ],
   "source": [
    "importanceVecApril2019 = getImportanceVec(april2019Mat,importanceVecApril2019) \n",
    "importanceVecSeptember2019= getImportanceVec(september2019Mat,importanceVecSeptember2019)\n",
    "importanceVecMarch2020 = getImportanceVec(march2020Mat,importanceVecMarch2020 )\n",
    "\n",
    "print(\"importanceVecApril2019\")\n",
    "print(importanceVecApril2019)\n",
    "print(\"importanceVecSeptember2019\")\n",
    "print(importanceVecSeptember2019)\n",
    "print(\"importanceVecMarch2020\")\n",
    "print(importanceVecMarch2020)"
   ]
  },
  {
   "cell_type": "code",
   "execution_count": null,
   "metadata": {},
   "outputs": [],
   "source": []
  }
 ],
 "metadata": {
  "kernelspec": {
   "display_name": "Python 3",
   "language": "python",
   "name": "python3"
  },
  "language_info": {
   "codemirror_mode": {
    "name": "ipython",
    "version": 3
   },
   "file_extension": ".py",
   "mimetype": "text/x-python",
   "name": "python",
   "nbconvert_exporter": "python",
   "pygments_lexer": "ipython3",
   "version": "3.7.6"
  }
 },
 "nbformat": 4,
 "nbformat_minor": 4
}
